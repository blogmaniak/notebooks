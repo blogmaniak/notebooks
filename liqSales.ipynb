{
    "nbformat_minor": 1, 
    "cells": [
        {
            "source": "### Liquor Sales Predictor\n#### Predicts the sale by product category given future month and day.", 
            "cell_type": "markdown", 
            "metadata": {
                "collapsed": true
            }
        }, 
        {
            "source": "", 
            "cell_type": "code", 
            "metadata": {}, 
            "outputs": [], 
            "execution_count": null
        }, 
        {
            "source": "#Load the dataset file\nimport sys\nimport types\nimport pandas as pd\nfrom botocore.client import Config\nimport ibm_boto3\n\ndef __iter__(self): return 0\n\n# Loads the large 13MM record file\n# The following code accesses a file in your IBM Cloud Object Storage. It includes your credentials.\n# You might want to remove those credentials before you share your notebook.\nclient_e0d982f9f7984059b4c6b128d1814552 = ibm_boto3.client(service_name='s3',\n    ibm_api_key_id='PkAbaFpfA7qkLJYNcF1OasbQWapxuH6P-vycQqiofFvK',\n    ibm_auth_endpoint=\"https://iam.ng.bluemix.net/oidc/token\",\n    config=Config(signature_version='oauth'),\n    endpoint_url='https://s3-api.us-geo.objectstorage.service.networklayer.com')\n\nbody = client_e0d982f9f7984059b4c6b128d1814552.get_object(Bucket='cnn-donotdelete-pr-4iz30eoowmkw91',Key='Iowa_Liquor_Sales.csv')['Body']\n# add missing __iter__ method, so pandas accepts body as file-like object\nif not hasattr(body, \"__iter__\"): body.__iter__ = types.MethodType( __iter__, body )\n\n#insert credentials for file - Change to credentials_1\n# @hidden_cell\n# The following code contains the credentials for a file in your IBM Cloud Object Storage.\n# You might want to remove those credentials before you share your notebook.\ncredentials_1 = {\n    'IBM_API_KEY_ID': 'PkAbaFpfA7qkLJYNcF1OasbQWapxuH6P-vycQqiofFvK',\n    'IAM_SERVICE_ID': 'iam-ServiceId-a42a0a9d-b15f-482d-8ad4-7f333af35771',\n    'ENDPOINT': 'https://s3-api.us-geo.objectstorage.service.networklayer.com',\n    'IBM_AUTH_ENDPOINT': 'https://iam.ng.bluemix.net/oidc/token',\n    'BUCKET': 'cnn-donotdelete-pr-4iz30eoowmkw91',\n    'FILE': 'liqSales.csv'\n}\n# @hidden_cell\n# The following code contains the credentials for a file in your IBM Cloud Object Storage.\n# You might want to remove those credentials before you share your notebook.\n# Make sure this uses the variable above. The number will vary in the inserted code.\ntry:\n    credentials = credentials_1\nexcept NameError as e:\n    print('Error: Setup is incorrect or incomplete.\\n')\n    print('Follow the instructions to insert the file credentials above, and edit to')\n    print('make the generated credentials_# variable match the variable used here.')\n    raise\n    \n# reference using String\n#cols = ['Date', 'Category Name', 'Item Description', 'Sale (Dollars)', 'Volume Sold (Liters)']\n#df = pd.read_csv(body, usecols=cols)\n\n#df.head()\n#count rows and slice into smaller chunk\n#df['Date'].count()\n#df.dtypes", 
            "cell_type": "code", 
            "metadata": {}, 
            "outputs": [
                {
                    "output_type": "execute_result", 
                    "data": {
                        "text/plain": "13948103"
                    }, 
                    "execution_count": 1, 
                    "metadata": {}
                }
            ], 
            "execution_count": 1
        }, 
        {
            "source": "#df.head()", 
            "cell_type": "code", 
            "metadata": {}, 
            "outputs": [
                {
                    "output_type": "execute_result", 
                    "data": {
                        "text/plain": "         Date Category Name                               Item Description  \\\n0  11/20/2015           NaN                          Templeton Rye w/Flask   \n1  11/21/2015           NaN                          Templeton Rye w/Flask   \n2  11/16/2015           NaN  Disaronno Amaretto Cavalli Mignon 3-50ml Pack   \n3  11/04/2015           NaN                 Knob Creek w/ Crystal Decanter   \n4  11/17/2015           NaN  Disaronno Amaretto Cavalli Mignon 3-50ml Pack   \n\n  Sale (Dollars)  Volume Sold (Liters)  \n0        $162.84                  4.50  \n1        $325.68                  9.00  \n2         $19.20                  0.30  \n3        $160.02                  5.25  \n4         $19.20                  0.30  ", 
                        "text/html": "<div>\n<style scoped>\n    .dataframe tbody tr th:only-of-type {\n        vertical-align: middle;\n    }\n\n    .dataframe tbody tr th {\n        vertical-align: top;\n    }\n\n    .dataframe thead th {\n        text-align: right;\n    }\n</style>\n<table border=\"1\" class=\"dataframe\">\n  <thead>\n    <tr style=\"text-align: right;\">\n      <th></th>\n      <th>Date</th>\n      <th>Category Name</th>\n      <th>Item Description</th>\n      <th>Sale (Dollars)</th>\n      <th>Volume Sold (Liters)</th>\n    </tr>\n  </thead>\n  <tbody>\n    <tr>\n      <th>0</th>\n      <td>11/20/2015</td>\n      <td>NaN</td>\n      <td>Templeton Rye w/Flask</td>\n      <td>$162.84</td>\n      <td>4.50</td>\n    </tr>\n    <tr>\n      <th>1</th>\n      <td>11/21/2015</td>\n      <td>NaN</td>\n      <td>Templeton Rye w/Flask</td>\n      <td>$325.68</td>\n      <td>9.00</td>\n    </tr>\n    <tr>\n      <th>2</th>\n      <td>11/16/2015</td>\n      <td>NaN</td>\n      <td>Disaronno Amaretto Cavalli Mignon 3-50ml Pack</td>\n      <td>$19.20</td>\n      <td>0.30</td>\n    </tr>\n    <tr>\n      <th>3</th>\n      <td>11/04/2015</td>\n      <td>NaN</td>\n      <td>Knob Creek w/ Crystal Decanter</td>\n      <td>$160.02</td>\n      <td>5.25</td>\n    </tr>\n    <tr>\n      <th>4</th>\n      <td>11/17/2015</td>\n      <td>NaN</td>\n      <td>Disaronno Amaretto Cavalli Mignon 3-50ml Pack</td>\n      <td>$19.20</td>\n      <td>0.30</td>\n    </tr>\n  </tbody>\n</table>\n</div>"
                    }, 
                    "execution_count": 2, 
                    "metadata": {}
                }
            ], 
            "execution_count": 2
        }, 
        {
            "source": "#df_short = df.iloc[0:1000000]\n#df_short.index", 
            "cell_type": "code", 
            "metadata": {}, 
            "outputs": [
                {
                    "output_type": "execute_result", 
                    "data": {
                        "text/plain": "RangeIndex(start=0, stop=1000000, step=1)"
                    }, 
                    "execution_count": 3, 
                    "metadata": {}
                }
            ], 
            "execution_count": 3
        }, 
        {
            "source": "#df_short.head()", 
            "cell_type": "code", 
            "metadata": {}, 
            "outputs": [
                {
                    "output_type": "execute_result", 
                    "data": {
                        "text/plain": "         Date Category Name                               Item Description  \\\n0  11/20/2015           NaN                          Templeton Rye w/Flask   \n1  11/21/2015           NaN                          Templeton Rye w/Flask   \n2  11/16/2015           NaN  Disaronno Amaretto Cavalli Mignon 3-50ml Pack   \n3  11/04/2015           NaN                 Knob Creek w/ Crystal Decanter   \n4  11/17/2015           NaN  Disaronno Amaretto Cavalli Mignon 3-50ml Pack   \n\n  Sale (Dollars)  Volume Sold (Liters)  \n0        $162.84                  4.50  \n1        $325.68                  9.00  \n2         $19.20                  0.30  \n3        $160.02                  5.25  \n4         $19.20                  0.30  ", 
                        "text/html": "<div>\n<style scoped>\n    .dataframe tbody tr th:only-of-type {\n        vertical-align: middle;\n    }\n\n    .dataframe tbody tr th {\n        vertical-align: top;\n    }\n\n    .dataframe thead th {\n        text-align: right;\n    }\n</style>\n<table border=\"1\" class=\"dataframe\">\n  <thead>\n    <tr style=\"text-align: right;\">\n      <th></th>\n      <th>Date</th>\n      <th>Category Name</th>\n      <th>Item Description</th>\n      <th>Sale (Dollars)</th>\n      <th>Volume Sold (Liters)</th>\n    </tr>\n  </thead>\n  <tbody>\n    <tr>\n      <th>0</th>\n      <td>11/20/2015</td>\n      <td>NaN</td>\n      <td>Templeton Rye w/Flask</td>\n      <td>$162.84</td>\n      <td>4.50</td>\n    </tr>\n    <tr>\n      <th>1</th>\n      <td>11/21/2015</td>\n      <td>NaN</td>\n      <td>Templeton Rye w/Flask</td>\n      <td>$325.68</td>\n      <td>9.00</td>\n    </tr>\n    <tr>\n      <th>2</th>\n      <td>11/16/2015</td>\n      <td>NaN</td>\n      <td>Disaronno Amaretto Cavalli Mignon 3-50ml Pack</td>\n      <td>$19.20</td>\n      <td>0.30</td>\n    </tr>\n    <tr>\n      <th>3</th>\n      <td>11/04/2015</td>\n      <td>NaN</td>\n      <td>Knob Creek w/ Crystal Decanter</td>\n      <td>$160.02</td>\n      <td>5.25</td>\n    </tr>\n    <tr>\n      <th>4</th>\n      <td>11/17/2015</td>\n      <td>NaN</td>\n      <td>Disaronno Amaretto Cavalli Mignon 3-50ml Pack</td>\n      <td>$19.20</td>\n      <td>0.30</td>\n    </tr>\n  </tbody>\n</table>\n</div>"
                    }, 
                    "execution_count": 4, 
                    "metadata": {}
                }
            ], 
            "execution_count": 4
        }, 
        {
            "source": "#Build the df based on selected columns\n#df_short['Sale (Dollars)'] = df_short['Sale (Dollars)'].str.replace('$', '')\n#df_short['Sale (Dollars)'] = df_short['Sale (Dollars)'].astype(float)\n#df_short.head()", 
            "cell_type": "code", 
            "metadata": {}, 
            "outputs": [
                {
                    "output_type": "stream", 
                    "name": "stderr", 
                    "text": "/opt/conda/envs/DSX-Python35/lib/python3.5/site-packages/ipykernel/__main__.py:2: SettingWithCopyWarning: \nA value is trying to be set on a copy of a slice from a DataFrame.\nTry using .loc[row_indexer,col_indexer] = value instead\n\nSee the caveats in the documentation: http://pandas.pydata.org/pandas-docs/stable/indexing.html#indexing-view-versus-copy\n  from ipykernel import kernelapp as app\n/opt/conda/envs/DSX-Python35/lib/python3.5/site-packages/ipykernel/__main__.py:3: SettingWithCopyWarning: \nA value is trying to be set on a copy of a slice from a DataFrame.\nTry using .loc[row_indexer,col_indexer] = value instead\n\nSee the caveats in the documentation: http://pandas.pydata.org/pandas-docs/stable/indexing.html#indexing-view-versus-copy\n  app.launch_new_instance()\n"
                }
            ], 
            "execution_count": 5
        }, 
        {
            "source": "#Rename Fields to simplify\n#df_short.rename(columns={'Sale (Dollars)': 'sales'}, inplace=True)\n#df_short.rename(columns={'Volume Sold (Liters)': 'volume'}, inplace=True)\n#df_short.rename(columns={'Category Name': 'categoryName'}, inplace=True)\n#df_short.rename(columns={'Date': 'date'}, inplace=True)\n#df_short.rename(columns={'Item Description': 'item'}, inplace=True)", 
            "cell_type": "code", 
            "metadata": {}, 
            "outputs": [
                {
                    "output_type": "stream", 
                    "name": "stderr", 
                    "text": "/opt/conda/envs/DSX-Python35/lib/python3.5/site-packages/pandas/core/frame.py:3027: SettingWithCopyWarning: \nA value is trying to be set on a copy of a slice from a DataFrame\n\nSee the caveats in the documentation: http://pandas.pydata.org/pandas-docs/stable/indexing.html#indexing-view-versus-copy\n  return super(DataFrame, self).rename(**kwargs)\n"
                }
            ], 
            "execution_count": 37
        }, 
        {
            "source": "#convert the df Date text to datetime field\n#import dateutil\n#df_short['date'] = df_short['date'].apply(dateutil.parser.parse, dayfirst=True)", 
            "cell_type": "code", 
            "metadata": {}, 
            "outputs": [
                {
                    "output_type": "stream", 
                    "name": "stderr", 
                    "text": "/opt/conda/envs/DSX-Python35/lib/python3.5/site-packages/ipykernel/__main__.py:3: SettingWithCopyWarning: \nA value is trying to be set on a copy of a slice from a DataFrame.\nTry using .loc[row_indexer,col_indexer] = value instead\n\nSee the caveats in the documentation: http://pandas.pydata.org/pandas-docs/stable/indexing.html#indexing-view-versus-copy\n  app.launch_new_instance()\n"
                }
            ], 
            "execution_count": 38
        }, 
        {
            "source": "#The largest sale possible\n#df_short['sales'].max()", 
            "cell_type": "code", 
            "metadata": {
                "scrolled": true
            }, 
            "outputs": [
                {
                    "output_type": "execute_result", 
                    "data": {
                        "text/plain": "196004.88"
                    }, 
                    "execution_count": 39, 
                    "metadata": {}
                }
            ], 
            "execution_count": 39
        }, 
        {
            "source": "#The largest sale possible\n#df_short['volume'].max()", 
            "cell_type": "code", 
            "metadata": {}, 
            "outputs": [
                {
                    "output_type": "execute_result", 
                    "data": {
                        "text/plain": "11124.0"
                    }, 
                    "execution_count": 40, 
                    "metadata": {}
                }
            ], 
            "execution_count": 40
        }, 
        {
            "source": "#Print df_short detailss\n#df_short.index\n#df_short['date'].count()", 
            "cell_type": "code", 
            "metadata": {}, 
            "outputs": [
                {
                    "output_type": "execute_result", 
                    "data": {
                        "text/plain": "1000000"
                    }, 
                    "execution_count": 41, 
                    "metadata": {}
                }
            ], 
            "execution_count": 41
        }, 
        {
            "source": "#df_short.head()", 
            "cell_type": "code", 
            "metadata": {}, 
            "outputs": [
                {
                    "output_type": "execute_result", 
                    "data": {
                        "text/plain": "        date categoryName                                           item  \\\n0 2015-11-20          NaN                          Templeton Rye w/Flask   \n1 2015-11-21          NaN                          Templeton Rye w/Flask   \n2 2015-11-16          NaN  Disaronno Amaretto Cavalli Mignon 3-50ml Pack   \n3 2015-04-11          NaN                 Knob Creek w/ Crystal Decanter   \n4 2015-11-17          NaN  Disaronno Amaretto Cavalli Mignon 3-50ml Pack   \n\n    sales  volume  \n0  162.84    4.50  \n1  325.68    9.00  \n2   19.20    0.30  \n3  160.02    5.25  \n4   19.20    0.30  ", 
                        "text/html": "<div>\n<style scoped>\n    .dataframe tbody tr th:only-of-type {\n        vertical-align: middle;\n    }\n\n    .dataframe tbody tr th {\n        vertical-align: top;\n    }\n\n    .dataframe thead th {\n        text-align: right;\n    }\n</style>\n<table border=\"1\" class=\"dataframe\">\n  <thead>\n    <tr style=\"text-align: right;\">\n      <th></th>\n      <th>date</th>\n      <th>categoryName</th>\n      <th>item</th>\n      <th>sales</th>\n      <th>volume</th>\n    </tr>\n  </thead>\n  <tbody>\n    <tr>\n      <th>0</th>\n      <td>2015-11-20</td>\n      <td>NaN</td>\n      <td>Templeton Rye w/Flask</td>\n      <td>162.84</td>\n      <td>4.50</td>\n    </tr>\n    <tr>\n      <th>1</th>\n      <td>2015-11-21</td>\n      <td>NaN</td>\n      <td>Templeton Rye w/Flask</td>\n      <td>325.68</td>\n      <td>9.00</td>\n    </tr>\n    <tr>\n      <th>2</th>\n      <td>2015-11-16</td>\n      <td>NaN</td>\n      <td>Disaronno Amaretto Cavalli Mignon 3-50ml Pack</td>\n      <td>19.20</td>\n      <td>0.30</td>\n    </tr>\n    <tr>\n      <th>3</th>\n      <td>2015-04-11</td>\n      <td>NaN</td>\n      <td>Knob Creek w/ Crystal Decanter</td>\n      <td>160.02</td>\n      <td>5.25</td>\n    </tr>\n    <tr>\n      <th>4</th>\n      <td>2015-11-17</td>\n      <td>NaN</td>\n      <td>Disaronno Amaretto Cavalli Mignon 3-50ml Pack</td>\n      <td>19.20</td>\n      <td>0.30</td>\n    </tr>\n  </tbody>\n</table>\n</div>"
                    }, 
                    "execution_count": 42, 
                    "metadata": {}
                }
            ], 
            "execution_count": 42
        }, 
        {
            "source": "#Save to csv file at object storage\ncos = ibm_boto3.client(service_name='s3',\n    ibm_api_key_id=credentials['IBM_API_KEY_ID'],\n    ibm_service_instance_id=credentials['IAM_SERVICE_ID'],\n    ibm_auth_endpoint=credentials['IBM_AUTH_ENDPOINT'],\n    config=Config(signature_version='oauth'),\n    endpoint_url=credentials['ENDPOINT'])\n\n# Build the enriched file name from the original filename.\nlocalfilename = 'enriched_' + credentials['FILE']\n\n# Write a CSV file from the enriched pandas DataFrame.\n#df_short.to_csv(localfilename, index=False)\n\n# Use the above put_file method with credentials to put the file in Object Storage.\n#cos.upload_file(localfilename, Bucket=credentials['BUCKET'],Key=localfilename)", 
            "cell_type": "code", 
            "metadata": {}, 
            "outputs": [], 
            "execution_count": 43
        }, 
        {
            "source": "!ls -alt \"../work\"", 
            "cell_type": "code", 
            "metadata": {}, 
            "outputs": [
                {
                    "output_type": "stream", 
                    "name": "stdout", 
                    "text": "total 60752\r\n-rw-r----- 1 dsxuser dsxuser 62201188 Jun  3 01:47 enriched_liqSales.csv\r\ndrwxr-x--- 2 dsxuser dsxuser     4096 Jun  3 01:27 .\r\ndrwx------ 1 dsxuser dsxuser     4096 Jun  3 00:26 ..\r\n"
                }
            ], 
            "execution_count": 44
        }, 
        {
            "source": "# Loading the shortened file into panda dataframe\nfileLoc = \"../work/enriched_liqSales.csv\"\ndfs = pd.read_csv(fileLoc)\ndfs.index", 
            "cell_type": "code", 
            "metadata": {}, 
            "outputs": [
                {
                    "output_type": "execute_result", 
                    "data": {
                        "text/plain": "RangeIndex(start=0, stop=1000000, step=1)"
                    }, 
                    "execution_count": 45, 
                    "metadata": {}
                }
            ], 
            "execution_count": 45
        }, 
        {
            "source": "#Print the total count of dfs\ndfs['date'].count()", 
            "cell_type": "code", 
            "metadata": {}, 
            "outputs": [
                {
                    "output_type": "execute_result", 
                    "data": {
                        "text/plain": "1000000"
                    }, 
                    "execution_count": 46, 
                    "metadata": {}
                }
            ], 
            "execution_count": 46
        }, 
        {
            "source": "", 
            "cell_type": "code", 
            "metadata": {}, 
            "outputs": [], 
            "execution_count": null
        }, 
        {
            "source": "dfs.head()", 
            "cell_type": "code", 
            "metadata": {}, 
            "outputs": [
                {
                    "output_type": "execute_result", 
                    "data": {
                        "text/plain": "         date categoryName                                           item  \\\n0  2015-11-20          NaN                          Templeton Rye w/Flask   \n1  2015-11-21          NaN                          Templeton Rye w/Flask   \n2  2015-11-16          NaN  Disaronno Amaretto Cavalli Mignon 3-50ml Pack   \n3  2015-04-11          NaN                 Knob Creek w/ Crystal Decanter   \n4  2015-11-17          NaN  Disaronno Amaretto Cavalli Mignon 3-50ml Pack   \n\n    sales  volume  \n0  162.84    4.50  \n1  325.68    9.00  \n2   19.20    0.30  \n3  160.02    5.25  \n4   19.20    0.30  ", 
                        "text/html": "<div>\n<style scoped>\n    .dataframe tbody tr th:only-of-type {\n        vertical-align: middle;\n    }\n\n    .dataframe tbody tr th {\n        vertical-align: top;\n    }\n\n    .dataframe thead th {\n        text-align: right;\n    }\n</style>\n<table border=\"1\" class=\"dataframe\">\n  <thead>\n    <tr style=\"text-align: right;\">\n      <th></th>\n      <th>date</th>\n      <th>categoryName</th>\n      <th>item</th>\n      <th>sales</th>\n      <th>volume</th>\n    </tr>\n  </thead>\n  <tbody>\n    <tr>\n      <th>0</th>\n      <td>2015-11-20</td>\n      <td>NaN</td>\n      <td>Templeton Rye w/Flask</td>\n      <td>162.84</td>\n      <td>4.50</td>\n    </tr>\n    <tr>\n      <th>1</th>\n      <td>2015-11-21</td>\n      <td>NaN</td>\n      <td>Templeton Rye w/Flask</td>\n      <td>325.68</td>\n      <td>9.00</td>\n    </tr>\n    <tr>\n      <th>2</th>\n      <td>2015-11-16</td>\n      <td>NaN</td>\n      <td>Disaronno Amaretto Cavalli Mignon 3-50ml Pack</td>\n      <td>19.20</td>\n      <td>0.30</td>\n    </tr>\n    <tr>\n      <th>3</th>\n      <td>2015-04-11</td>\n      <td>NaN</td>\n      <td>Knob Creek w/ Crystal Decanter</td>\n      <td>160.02</td>\n      <td>5.25</td>\n    </tr>\n    <tr>\n      <th>4</th>\n      <td>2015-11-17</td>\n      <td>NaN</td>\n      <td>Disaronno Amaretto Cavalli Mignon 3-50ml Pack</td>\n      <td>19.20</td>\n      <td>0.30</td>\n    </tr>\n  </tbody>\n</table>\n</div>"
                    }, 
                    "execution_count": 48, 
                    "metadata": {}
                }
            ], 
            "execution_count": 48
        }, 
        {
            "source": "from matplotlib import pyplot\n# load dataset\nvalues = dfs.values\n# specify columns to plot\ngroups = [3,4]\ni = 1\n# plot each column\npyplot.figure()\nfor group in groups:\n\tpyplot.subplot(len(groups), 1, i)\n\tpyplot.plot(values[:, group])\n\tpyplot.title(dfs.columns[group], y=0.5, loc='right')\n\ti += 1\npyplot.show()", 
            "cell_type": "code", 
            "metadata": {}, 
            "outputs": [
                {
                    "output_type": "display_data", 
                    "data": {
                        "image/png": "[encoded data removed]", 
                        "text/plain": "<matplotlib.figure.Figure at 0x2adfb42d5828>"
                    }, 
                    "metadata": {}
                }
            ], 
            "execution_count": 50
        }, 
        {
            "source": "#Build the LSTM model\nfrom math import sqrt\nfrom numpy import concatenate\nfrom matplotlib import pyplot\nfrom pandas import read_csv\nfrom pandas import DataFrame\nfrom pandas import concat\nfrom sklearn.preprocessing import MinMaxScaler\nfrom sklearn.preprocessing import LabelEncoder\nfrom sklearn.metrics import mean_squared_error\nfrom keras.models import Sequential\nfrom keras.layers import Dense\nfrom keras.layers import LSTM\n \n# convert series to supervised learning\ndef series_to_supervised(data, n_in=1, n_out=1, dropnan=True):\n\tn_vars = 1 if type(data) is list else data.shape[1]\n\tdf = DataFrame(data)\n\tcols, names = list(), list()\n\t# input sequence (t-n, ... t-1)\n\tfor i in range(n_in, 0, -1):\n\t\tcols.append(df.shift(i))\n\t\tnames += [('var%d(t-%d)' % (j+1, i)) for j in range(n_vars)]\n\t# forecast sequence (t, t+1, ... t+n)\n\tfor i in range(0, n_out):\n\t\tcols.append(df.shift(-i))\n\t\tif i == 0:\n\t\t\tnames += [('var%d(t)' % (j+1)) for j in range(n_vars)]\n\t\telse:\n\t\t\tnames += [('var%d(t+%d)' % (j+1, i)) for j in range(n_vars)]\n\t# put it all together\n\tagg = concat(cols, axis=1)\n\tagg.columns = names\n\t# drop rows with NaN values\n\tif dropnan:\n\t\tagg.dropna(inplace=True)\n\treturn agg\n \n# load dataset\ndataset = read_csv('pollution.csv', header=0, index_col=0)\nvalues = dataset.values\n# integer encode direction\nencoder = LabelEncoder()\nvalues[:,4] = encoder.fit_transform(values[:,4])\n# ensure all data is float\nvalues = values.astype('float32')\n# normalize features\nscaler = MinMaxScaler(feature_range=(0, 1))\nscaled = scaler.fit_transform(values)\n# frame as supervised learning\nreframed = series_to_supervised(scaled, 1, 1)\n# drop columns we don't want to predict\nreframed.drop(reframed.columns[[9,10,11,12,13,14,15]], axis=1, inplace=True)\nprint(reframed.head())\n \n# split into train and test sets\nvalues = reframed.values\nn_train_hours = 365 * 24\ntrain = values[:n_train_hours, :]\ntest = values[n_train_hours:, :]\n# split into input and outputs\ntrain_X, train_y = train[:, :-1], train[:, -1]\ntest_X, test_y = test[:, :-1], test[:, -1]\n# reshape input to be 3D [samples, timesteps, features]\ntrain_X = train_X.reshape((train_X.shape[0], 1, train_X.shape[1]))\ntest_X = test_X.reshape((test_X.shape[0], 1, test_X.shape[1]))\nprint(train_X.shape, train_y.shape, test_X.shape, test_y.shape)\n \n# design network\nmodel = Sequential()\nmodel.add(LSTM(50, input_shape=(train_X.shape[1], train_X.shape[2])))\nmodel.add(Dense(1))\nmodel.compile(loss='mae', optimizer='adam')\n# fit network\nhistory = model.fit(train_X, train_y, epochs=50, batch_size=72, validation_data=(test_X, test_y), verbose=2, shuffle=False)\n# plot history\npyplot.plot(history.history['loss'], label='train')\npyplot.plot(history.history['val_loss'], label='test')\npyplot.legend()\npyplot.show()\n \n# make a prediction\nyhat = model.predict(test_X)\ntest_X = test_X.reshape((test_X.shape[0], test_X.shape[2]))\n# invert scaling for forecast\ninv_yhat = concatenate((yhat, test_X[:, 1:]), axis=1)\ninv_yhat = scaler.inverse_transform(inv_yhat)\ninv_yhat = inv_yhat[:,0]\n# invert scaling for actual\ntest_y = test_y.reshape((len(test_y), 1))\ninv_y = concatenate((test_y, test_X[:, 1:]), axis=1)\ninv_y = scaler.inverse_transform(inv_y)\ninv_y = inv_y[:,0]\n# calculate RMSE\nrmse = sqrt(mean_squared_error(inv_y, inv_yhat))\nprint('Test RMSE: %.3f' % rmse)", 
            "cell_type": "code", 
            "metadata": {}, 
            "outputs": [], 
            "execution_count": null
        }, 
        {
            "source": "", 
            "cell_type": "code", 
            "metadata": {}, 
            "outputs": [], 
            "execution_count": null
        }, 
        {
            "source": "", 
            "cell_type": "code", 
            "metadata": {}, 
            "outputs": [], 
            "execution_count": null
        }
    ], 
    "metadata": {
        "kernelspec": {
            "display_name": "Python 3.5", 
            "name": "python3", 
            "language": "python"
        }, 
        "language_info": {
            "mimetype": "text/x-python", 
            "nbconvert_exporter": "python", 
            "version": "3.5.4", 
            "name": "python", 
            "file_extension": ".py", 
            "pygments_lexer": "ipython3", 
            "codemirror_mode": {
                "version": 3, 
                "name": "ipython"
            }
        }
    }, 
    "nbformat": 4
}